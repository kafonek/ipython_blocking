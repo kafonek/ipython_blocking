{
 "cells": [
  {
   "cell_type": "code",
   "execution_count": 1,
   "id": "814f7138-bce4-4faf-bf92-a4d1b46d8d0e",
   "metadata": {},
   "outputs": [],
   "source": [
    "import ipywidgets as widgets\n",
    "import ipython_blocking # enables %block and %blockrun magic on import"
   ]
  },
  {
   "cell_type": "code",
   "execution_count": 2,
   "id": "9edbcf9a-f08a-4bae-ade6-2db01098f378",
   "metadata": {},
   "outputs": [
    {
     "data": {
      "text/plain": [
       "<ipython_blocking.ipython_blocking.CaptureExecution at 0x7fd59861ca30>"
      ]
     },
     "execution_count": 2,
     "metadata": {},
     "output_type": "execute_result"
    }
   ],
   "source": [
    "from ipython_blocking import CaptureExecution\n",
    "\n",
    "ctx = CaptureExecution()\n",
    "ctx"
   ]
  },
  {
   "cell_type": "code",
   "execution_count": 3,
   "id": "5c7bf4a8-f7e5-438f-abea-484a976f525a",
   "metadata": {},
   "outputs": [
    {
     "data": {
      "text/plain": [
       "[]"
      ]
     },
     "execution_count": 3,
     "metadata": {},
     "output_type": "execute_result"
    }
   ],
   "source": [
    "ctx.captured_events"
   ]
  },
  {
   "cell_type": "code",
   "execution_count": 4,
   "id": "2a631348-3cbb-4d9b-b2ff-9dfe3475cc6f",
   "metadata": {},
   "outputs": [
    {
     "data": {
      "application/vnd.jupyter.widget-view+json": {
       "model_id": "77c05bd2baa5476c806d44b3a8ef58c4",
       "version_major": 2,
       "version_minor": 0
      },
      "text/plain": [
       "VBox(children=(Text(value=''), Button(button_style='success', description='Run', style=ButtonStyle())))"
      ]
     },
     "execution_count": 4,
     "metadata": {},
     "output_type": "execute_result"
    }
   ],
   "source": [
    "text_box = widgets.Text()\n",
    "run_button = widgets.Button(description='Run', button_style='success')\n",
    "box = widgets.VBox(children=[text_box, run_button])\n",
    "box"
   ]
  },
  {
   "cell_type": "code",
   "execution_count": 5,
   "id": "1ddd532a-5660-4c44-91b4-2eb83b5f3dda",
   "metadata": {},
   "outputs": [
    {
     "data": {
      "text/plain": [
       "''"
      ]
     },
     "execution_count": 5,
     "metadata": {},
     "output_type": "execute_result"
    }
   ],
   "source": [
    "text_box.value"
   ]
  },
  {
   "cell_type": "code",
   "execution_count": null,
   "id": "b61fd6b8-9052-49cb-a892-15c18dac014a",
   "metadata": {},
   "outputs": [],
   "source": [
    "%block run_button"
   ]
  },
  {
   "cell_type": "code",
   "execution_count": 11,
   "id": "ec766bb7-4037-41da-8db7-280fb5df2c44",
   "metadata": {},
   "outputs": [
    {
     "data": {
      "application/javascript": [
       "Jupyter.notebook.select_next().execute_cells_below()"
      ],
      "text/plain": [
       "<IPython.core.display.Javascript object>"
      ]
     },
     "metadata": {},
     "output_type": "display_data"
    }
   ],
   "source": [
    "from IPython.display import Javascript\n",
    "js = \"Jupyter.notebook.select_next().execute_cells_below()\"\n",
    "display(Javascript(js))"
   ]
  },
  {
   "cell_type": "code",
   "execution_count": 7,
   "id": "a0e836ff-9f06-45b6-85ed-92796c50a251",
   "metadata": {},
   "outputs": [
    {
     "name": "stdout",
     "output_type": "stream",
     "text": [
      "abc\n"
     ]
    }
   ],
   "source": [
    "print(text_box.value)"
   ]
  },
  {
   "cell_type": "code",
   "execution_count": 8,
   "id": "70b089c5-10b9-4044-9291-106de8f3a769",
   "metadata": {},
   "outputs": [
    {
     "data": {
      "text/plain": [
       "[]"
      ]
     },
     "execution_count": 8,
     "metadata": {},
     "output_type": "execute_result"
    }
   ],
   "source": [
    "ctx.captured_events"
   ]
  },
  {
   "cell_type": "code",
   "execution_count": 9,
   "id": "63ebbdd3-869d-4be1-a4a9-1eb5f53ecfaf",
   "metadata": {},
   "outputs": [
    {
     "data": {
      "text/plain": [
       "<module 'ipywidgets' from '/home/kafonek/ipython_blocking/.venv/lib/python3.10/site-packages/ipywidgets/__init__.py'>"
      ]
     },
     "execution_count": 9,
     "metadata": {},
     "output_type": "execute_result"
    }
   ],
   "source": [
    "import ipywidgets\n",
    "ipywidgets"
   ]
  },
  {
   "cell_type": "code",
   "execution_count": null,
   "id": "c55b16ed-e303-4c70-817c-0a1b62f7a3b9",
   "metadata": {},
   "outputs": [],
   "source": []
  }
 ],
 "metadata": {
  "kernelspec": {
   "display_name": "Python 3 (ipykernel)",
   "language": "python",
   "name": "python3"
  },
  "language_info": {
   "codemirror_mode": {
    "name": "ipython",
    "version": 3
   },
   "file_extension": ".py",
   "mimetype": "text/x-python",
   "name": "python",
   "nbconvert_exporter": "python",
   "pygments_lexer": "ipython3",
   "version": "3.10.5"
  }
 },
 "nbformat": 4,
 "nbformat_minor": 5
}
